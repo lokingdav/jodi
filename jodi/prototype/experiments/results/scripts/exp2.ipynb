{
 "cells": [
  {
   "cell_type": "code",
   "execution_count": 1,
   "metadata": {},
   "outputs": [
    {
     "name": "stdout",
     "output_type": "stream",
     "text": [
      "           min     max   median     MAD  compute      vCPUs\n",
      "PUB:P    7.118  16.619   8.6955  0.7905   11.067   8.720796\n",
      "PUB:EV   4.349  11.330   5.0735  0.1435    5.504   5.019820\n",
      "PUB:MS   3.940  11.179   4.8330  0.0410    4.956   4.520027\n",
      "RET:P   10.697  23.463  12.5820  0.9170   15.333  12.082404\n",
      "RET:EV   4.289  11.502   5.0785  0.1425    5.506   5.021644\n",
      "RET:MS   3.905  10.183   4.7900  0.0400    4.910   4.478073\n",
      "\n",
      "VCPUs\n",
      "------------------\n",
      "Provider:\t21\n",
      "Evaluator:\t11\n",
      "Message Store:\t9\n",
      "\n",
      "\n",
      "Call rate: 18240.624\n",
      "MS Req per sec: 1824.0624\n",
      "Storage Requirement\n",
      "------------------\n",
      "Evaluator: 1 GB\n",
      "Message Store: 151 GB\n"
     ]
    }
   ],
   "source": [
    "from jodi.prototype.experiments.results.scripts import helpers\n",
    "import numpy as np\n",
    "\n",
    "oob_frac = 0.788\n",
    "total_call_rate = 23_148\n",
    "median_call_rate = 1_000\n",
    "file_path = \"../experiment-2.csv\"\n",
    "columns = ['PUB:P', 'PUB:EV', 'PUB:MS', 'RET:P', 'RET:EV', 'RET:MS']\n",
    "stats = helpers.compute_stoobsstics(file_path, columns)\n",
    "n_mad, N, M = 3, 20, 20\n",
    "\n",
    "oob_calls_rate = total_call_rate * oob_frac\n",
    "p_rate = median_call_rate * oob_frac\n",
    "\n",
    "stats = helpers.estimate_vcpus(\n",
    "    stats=stats,\n",
    "    n_mad=n_mad, \n",
    "    call_rate=oob_calls_rate, \n",
    "    p_rate=p_rate,\n",
    "    N=N, \n",
    "    M=M\n",
    ")\n",
    "\n",
    "# helpers.estimate_bandwidth(\n",
    "#     call_rate=oob_calls_rate, \n",
    "#     p_rate=p_rate,\n",
    "#     N=N, \n",
    "#     M=M\n",
    "# )\n",
    "helpers.estimate_storage(call_rate=oob_calls_rate)\n",
    "\n",
    "\n",
    "\n"
   ]
  }
 ],
 "metadata": {
  "kernelspec": {
   "display_name": ".venv",
   "language": "python",
   "name": "python3"
  },
  "language_info": {
   "codemirror_mode": {
    "name": "ipython",
    "version": 3
   },
   "file_extension": ".py",
   "mimetype": "text/x-python",
   "name": "python",
   "nbconvert_exporter": "python",
   "pygments_lexer": "ipython3",
   "version": "3.8.18"
  }
 },
 "nbformat": 4,
 "nbformat_minor": 2
}
